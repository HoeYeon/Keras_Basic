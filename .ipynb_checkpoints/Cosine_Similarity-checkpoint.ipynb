{
 "cells": [
  {
   "cell_type": "markdown",
   "metadata": {},
   "source": [
    "## DTM과 TF-IDF를 사용하여 문서간 cosine_similarity 계산\n",
    "### 1에 가까울수록 문장이 유사하다"
   ]
  },
  {
   "cell_type": "code",
   "execution_count": 45,
   "metadata": {},
   "outputs": [],
   "source": [
    "from sklearn.feature_extraction.text import CountVectorizer"
   ]
  },
  {
   "cell_type": "code",
   "execution_count": 46,
   "metadata": {},
   "outputs": [],
   "source": [
    "sentences = [\"I like the dog\",\"I Like the cat\",\"dog like me\",\"I like dog and cat\"]"
   ]
  },
  {
   "cell_type": "code",
   "execution_count": 51,
   "metadata": {},
   "outputs": [
    {
     "name": "stdout",
     "output_type": "stream",
     "text": [
      "[[0 0 1 1 0 1]\n",
      " [0 1 0 1 0 1]\n",
      " [0 0 1 1 1 0]\n",
      " [1 1 1 1 0 0]]\n",
      "{'like': 3, 'the': 5, 'dog': 2, 'cat': 1, 'me': 4, 'and': 0}\n"
     ]
    }
   ],
   "source": [
    "vector = CountVectorizer()\n",
    "sen = vector.fit_transform(sentences).toarray()\n",
    "print(sen)\n",
    "print(vector.vocabulary_)"
   ]
  },
  {
   "cell_type": "markdown",
   "metadata": {},
   "source": [
    "## Cosine Similarity\n",
    "![ex_screenshot](cos_sim.png)"
   ]
  },
  {
   "cell_type": "code",
   "execution_count": 52,
   "metadata": {},
   "outputs": [],
   "source": [
    "def cos_sim(A,B):\n",
    "    return np.dot(A,B)/(np.linalg.norm(A)*np.linalg.norm(B))\n",
    "\n",
    "def getMat(sequences):\n",
    "    num = len(sequences)\n",
    "    mat = np.eye(num)\n",
    "    for i in range(num):\n",
    "        for j in range(num):\n",
    "            mat[i][j] = cos_sim(sequences[i],sequences[j])\n",
    "    return mat"
   ]
  },
  {
   "cell_type": "code",
   "execution_count": 54,
   "metadata": {},
   "outputs": [
    {
     "data": {
      "text/plain": [
       "array([[1.        , 0.66666667, 0.66666667, 0.57735027],\n",
       "       [0.66666667, 1.        , 0.33333333, 0.57735027],\n",
       "       [0.66666667, 0.33333333, 1.        , 0.57735027],\n",
       "       [0.57735027, 0.57735027, 0.57735027, 1.        ]])"
      ]
     },
     "execution_count": 54,
     "metadata": {},
     "output_type": "execute_result"
    }
   ],
   "source": [
    "print(getMat(sen))"
   ]
  },
  {
   "cell_type": "code",
   "execution_count": 55,
   "metadata": {},
   "outputs": [],
   "source": [
    "from sklearn.feature_extraction.text import TfidfVectorizer\n",
    "\n",
    "tfidf = TfidfVectorizer().fit(sentences)\n",
    "sen = tfidf.transform(sentences).toarray()"
   ]
  },
  {
   "cell_type": "code",
   "execution_count": 56,
   "metadata": {},
   "outputs": [
    {
     "name": "stdout",
     "output_type": "stream",
     "text": [
      "[[1.         0.63653684 0.4597522  0.39278488]\n",
      " [0.63653684 1.         0.1706786  0.47866007]\n",
      " [0.4597522  0.1706786  1.         0.34572237]\n",
      " [0.39278488 0.47866007 0.34572237 1.        ]]\n"
     ]
    }
   ],
   "source": [
    "print(getMat(sen))"
   ]
  },
  {
   "cell_type": "code",
   "execution_count": null,
   "metadata": {},
   "outputs": [],
   "source": []
  }
 ],
 "metadata": {
  "kernelspec": {
   "display_name": "Python 3",
   "language": "python",
   "name": "python3"
  },
  "language_info": {
   "codemirror_mode": {
    "name": "ipython",
    "version": 3
   },
   "file_extension": ".py",
   "mimetype": "text/x-python",
   "name": "python",
   "nbconvert_exporter": "python",
   "pygments_lexer": "ipython3",
   "version": "3.6.9"
  }
 },
 "nbformat": 4,
 "nbformat_minor": 4
}
