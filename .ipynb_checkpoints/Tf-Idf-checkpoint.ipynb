{
 "cells": [
  {
   "cell_type": "markdown",
   "metadata": {},
   "source": [
    "# Basic Tf-Idf"
   ]
  },
  {
   "cell_type": "code",
   "execution_count": 88,
   "metadata": {},
   "outputs": [],
   "source": [
    "from collections import Counter\n",
    "from math import log\n",
    "import numpy as np\n",
    "doc = ['you know I want your love',\n",
    "        'I like you',\n",
    "        'what should I do ']"
   ]
  },
  {
   "cell_type": "code",
   "execution_count": 115,
   "metadata": {},
   "outputs": [
    {
     "name": "stdout",
     "output_type": "stream",
     "text": [
      "{'want': 0, 'know': 1, 'you': 2, 'like': 3, 'love': 4, 'do': 5, 'your': 6, 'what': 7, 'should': 8, 'I': 9}\n"
     ]
    }
   ],
   "source": [
    "doc_to_list = ' '.join(doc).split()\n",
    "words = list(set(doc_to_list))\n",
    "wordToIdx = {k:i for i,k in enumerate(words)}\n",
    "print(wordToIdx)\n",
    "def Tf(doc):\n",
    "    doc_to_list = ' '.join(doc).split()\n",
    "    return Counter(doc_to_list)\n",
    "\n",
    "def idf(doc,t):\n",
    "    result = 0\n",
    "    for i in doc:\n",
    "        if t in i:\n",
    "            result += 1\n",
    "    ans = log(len(doc)/(1+result))\n",
    "    return ans if ans >0 else log(len(doc)/(result))\n",
    "\n",
    "def tf_idf(doc):\n",
    "    tf = Tf(doc)\n",
    "    mat = np.zeros((len(doc),len(tf)))\n",
    "    for i in range(len(doc)):\n",
    "        for j in doc[i].split():\n",
    "            mat[i][wordToIdx[j]] = tf[j] * idf(doc,j)\n",
    "    return mat\n",
    "mat = tf_idf(doc)"
   ]
  },
  {
   "cell_type": "code",
   "execution_count": 116,
   "metadata": {},
   "outputs": [
    {
     "data": {
      "text/plain": [
       "array([[0.40546511, 0.40546511, 0.81093022, 0.        , 0.40546511,\n",
       "        0.        , 0.40546511, 0.        , 0.        , 0.        ],\n",
       "       [0.        , 0.        , 0.81093022, 0.40546511, 0.        ,\n",
       "        0.        , 0.        , 0.        , 0.        , 0.        ],\n",
       "       [0.        , 0.        , 0.        , 0.        , 0.        ,\n",
       "        0.40546511, 0.        , 0.40546511, 0.40546511, 0.        ]])"
      ]
     },
     "execution_count": 116,
     "metadata": {},
     "output_type": "execute_result"
    }
   ],
   "source": [
    "mat"
   ]
  },
  {
   "cell_type": "markdown",
   "metadata": {},
   "source": [
    "### 위와 같이 기본형으로 구현을 하면 모든 문서에서 나온 단어의 경우 음수가 나오게 되면서 값이 이상해진다..\n",
    "### 실제 사이킷런 tf-idf와는 조금 값의 차이를 보임"
   ]
  },
  {
   "cell_type": "code",
   "execution_count": 117,
   "metadata": {},
   "outputs": [
    {
     "data": {
      "text/plain": [
       "array([[0.        , 0.46735098, 0.        , 0.46735098, 0.        ,\n",
       "        0.46735098, 0.        , 0.35543247, 0.46735098],\n",
       "       [0.        , 0.        , 0.79596054, 0.        , 0.        ,\n",
       "        0.        , 0.        , 0.60534851, 0.        ],\n",
       "       [0.57735027, 0.        , 0.        , 0.        , 0.57735027,\n",
       "        0.        , 0.57735027, 0.        , 0.        ]])"
      ]
     },
     "execution_count": 117,
     "metadata": {},
     "output_type": "execute_result"
    }
   ],
   "source": [
    "from sklearn.feature_extraction.text import TfidfVectorizer\n",
    "\n",
    "tfidf = TfidfVectorizer().fit(doc)\n",
    "sen = tfidf.transform(doc).toarray()\n",
    "sen"
   ]
  },
  {
   "cell_type": "code",
   "execution_count": null,
   "metadata": {},
   "outputs": [],
   "source": []
  },
  {
   "cell_type": "code",
   "execution_count": null,
   "metadata": {},
   "outputs": [],
   "source": []
  }
 ],
 "metadata": {
  "kernelspec": {
   "display_name": "Python 3",
   "language": "python",
   "name": "python3"
  },
  "language_info": {
   "codemirror_mode": {
    "name": "ipython",
    "version": 3
   },
   "file_extension": ".py",
   "mimetype": "text/x-python",
   "name": "python",
   "nbconvert_exporter": "python",
   "pygments_lexer": "ipython3",
   "version": "3.6.9"
  }
 },
 "nbformat": 4,
 "nbformat_minor": 4
}
